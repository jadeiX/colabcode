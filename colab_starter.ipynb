{
  "cells": [
    {
      "cell_type": "markdown",
      "metadata": {
        "colab_type": "text",
        "id": "view-in-github"
      },
      "source": [
        "<a href=\"https://colab.research.google.com/github/abhishekkrthakur/colabcode/blob/master/colab_starter.ipynb\" target=\"_parent\"><img src=\"https://colab.research.google.com/assets/colab-badge.svg\" alt=\"Open In Colab\"/></a>"
      ]
    },
    {
      "cell_type": "code",
      "execution_count": null,
      "metadata": {
        "colab": {
          "base_uri": "https://localhost:8080/",
          "height": 228
        },
        "colab_type": "code",
        "id": "DXPMB4syxTCF",
        "outputId": "c2ef6e4d-16f6-410b-e4d9-e480a89469f5"
      },
      "outputs": [],
      "source": [
        "!pip install git+https://github.com/jadeiX/colabcode.git &> /dev/null #\"&> /dev/null\" hides pip output\n",
        "!git config --global user.name \"<name>\"\n",
        "!git config --global user.email <email>\n",
        "from colabcode import ColabCode\n",
        "ColabCode(port=10000, password=\"<password>\", mount_drive=True,authtoken=\"<ngrok key>\")"
      ]
    }
  ],
  "metadata": {
    "colab": {
      "include_colab_link": true,
      "name": "colab_starter.ipynb",
      "provenance": []
    },
    "interpreter": {
      "hash": "31f2aee4e71d21fbe5cf8b01ff0e069b9275f58929596ceb00d14d90e3e16cd6"
    },
    "kernelspec": {
      "display_name": "Python 3.8.2 64-bit",
      "name": "python3"
    },
    "language_info": {
      "name": "python",
      "version": ""
    }
  },
  "nbformat": 4,
  "nbformat_minor": 0
}